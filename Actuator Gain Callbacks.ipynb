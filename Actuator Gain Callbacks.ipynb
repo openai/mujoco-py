{
 "cells": [
  {
   "cell_type": "code",
   "execution_count": 32,
   "metadata": {},
   "outputs": [],
   "source": [
    "%matplotlib inline\n",
    "\n",
    "import matplotlib\n",
    "import numpy as np\n",
    "import matplotlib.pyplot as plt\n",
    "\n",
    "from mujoco_py import MjSim, load_model_from_xml, set_act_gain_callback_fn\n",
    "\n",
    "xml = '''\n",
    "<mujoco>\n",
    "    <worldbody>\n",
    "        <body name=\"body1\" pos=\"0 0 0\">\n",
    "            <joint axis=\"1 0 0\" name=\"a\" pos=\"0 0 0\" type=\"hinge\"/>\n",
    "            <geom pos=\"0 0 0\" size=\"1.0\"/>\n",
    "        </body>\n",
    "    </worldbody>\n",
    "    <actuator>\n",
    "        <general joint=\"a\" gaintype=\"user\"/>\n",
    "    </actuator>\n",
    "</mujoco>\n",
    "'''\n",
    "sim = MjSim(load_model_from_xml(xml))\n",
    "\n",
    "def reset():\n",
    "    sim.reset()\n",
    "    set_act_gain_callback_fn()"
   ]
  },
  {
   "cell_type": "markdown",
   "metadata": {},
   "source": [
    "## Zero Control"
   ]
  },
  {
   "cell_type": "code",
   "execution_count": 33,
   "metadata": {
    "scrolled": false
   },
   "outputs": [
    {
     "data": {
      "text/plain": [
       "[<matplotlib.lines.Line2D at 0x112650160>]"
      ]
     },
     "execution_count": 33,
     "metadata": {},
     "output_type": "execute_result"
    },
    {
     "data": {
      "image/png": "[encoded data removed]",
      "text/plain": [
       "<matplotlib.figure.Figure at 0x112392630>"
      ]
     },
     "metadata": {},
     "output_type": "display_data"
    }
   ],
   "source": [
    "reset()\n",
    "obs = [sim.data.qpos.copy() for _ in range(30000) if (sim.step() or True)]\n",
    "plt.plot(obs)"
   ]
  },
  {
   "cell_type": "markdown",
   "metadata": {},
   "source": [
    "## Constant Control"
   ]
  },
  {
   "cell_type": "code",
   "execution_count": 34,
   "metadata": {
    "scrolled": true
   },
   "outputs": [
    {
     "data": {
      "text/plain": [
       "[<matplotlib.lines.Line2D at 0x10f51ba20>]"
      ]
     },
     "execution_count": 34,
     "metadata": {},
     "output_type": "execute_result"
    },
    {
     "data": {
      "image/png": "[encoded data removed]",
      "text/plain": [
       "<matplotlib.figure.Figure at 0x11238cd68>"
      ]
     },
     "metadata": {},
     "output_type": "display_data"
    }
   ],
   "source": [
    "reset()\n",
    "sim.data.ctrl[:] = 1\n",
    "obs = [sim.data.qpos.copy() for _ in range(30000) if (sim.step() or True)]\n",
    "plt.plot(obs)"
   ]
  },
  {
   "cell_type": "markdown",
   "metadata": {},
   "source": [
    "## Position (P) Control"
   ]
  },
  {
   "cell_type": "code",
   "execution_count": null,
   "metadata": {},
   "outputs": [],
   "source": [
    "def p(model, data, id_):\n",
    "    ''' Calculate and return actuator gain '''\n",
    "    print(model)\n",
    "    print(data)\n",
    "    print(id_)\n",
    "    return 0.\n",
    "    \n",
    "\n",
    "reset()\n",
    "set_act_gain_callback_fn(p)\n",
    "sim.data.ctrl[:] = 1\n",
    "obs = [sim.data.qpos.copy() for _ in range(30000) if (sim.step() or True)]\n",
    "plt.plot(obs)"
   ]
  },
  {
   "cell_type": "code",
   "execution_count": null,
   "metadata": {},
   "outputs": [],
   "source": []
  }
 ],
 "metadata": {
  "kernelspec": {
   "display_name": "Python 3",
   "language": "python",
   "name": "python3"
  },
  "language_info": {
   "codemirror_mode": {
    "name": "ipython",
    "version": 3
   },
   "file_extension": ".py",
   "mimetype": "text/x-python",
   "name": "python",
   "nbconvert_exporter": "python",
   "pygments_lexer": "ipython3",
   "version": "3.5.2"
  }
 },
 "nbformat": 4,
 "nbformat_minor": 2
}
